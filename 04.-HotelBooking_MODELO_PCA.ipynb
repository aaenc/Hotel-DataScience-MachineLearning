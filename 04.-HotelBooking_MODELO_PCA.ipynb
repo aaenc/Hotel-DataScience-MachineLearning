{
 "cells": [
  {
   "cell_type": "code",
   "execution_count": null,
   "id": "c7c22109-e774-48f3-a2dc-0f2332a5b646",
   "metadata": {},
   "outputs": [],
   "source": [
    "# Para fechas\n",
    "from datetime import datetime\n",
    "# Asignar la fecha y hora actual a la variable 'inicio'\n",
    "inicio = datetime.now()\n",
    "print(\"Fecha y hora de inicio:\", inicio)"
   ]
  },
  {
   "cell_type": "markdown",
   "id": "92388f56-bbb7-4279-89d9-51b27f0ba37e",
   "metadata": {},
   "source": [
    "# 1.- [Reserva de hotel (Proyecto Fin Curso Data Science con IA y Machine Learning NEOLAND)](https://www.kaggle.com/datasets/mojtaba142/hotel-booking/data)"
   ]
  },
  {
   "cell_type": "markdown",
   "id": "f3bb4825-663c-4732-921a-131084777434",
   "metadata": {},
   "source": [
    "## 1.1.- Desarrollado por:"
   ]
  },
  {
   "cell_type": "markdown",
   "id": "a2f8613e-37ba-4872-8722-6424e9bdf484",
   "metadata": {},
   "source": [
    "### 1.1.1.- Maria Noe Galan:"
   ]
  },
  {
   "cell_type": "markdown",
   "id": "49f5e3e1-b8c1-4e07-9355-4f53ced7ae54",
   "metadata": {},
   "source": [
    "### 1.1.2.- Percy Orlando Quezada Reategui:"
   ]
  },
  {
   "cell_type": "markdown",
   "id": "ca0fabad-afb8-48d2-811e-f76eabf2bfb9",
   "metadata": {},
   "source": [
    "### 1.1.3.- Aitor Arizmendiarrieta Elu:"
   ]
  },
  {
   "cell_type": "markdown",
   "id": "27145dbf-b5e8-490a-b358-369f129f9b4e",
   "metadata": {},
   "source": [
    "# 2.- Introduccion al proyecto"
   ]
  },
  {
   "cell_type": "markdown",
   "id": "e07cd712-33fe-4987-a85d-db7424fafe78",
   "metadata": {},
   "source": [
    "## 2.1.- Contexto"
   ]
  },
  {
   "cell_type": "markdown",
   "id": "632e00c4-dda9-4cc7-a163-597230c88588",
   "metadata": {},
   "source": [
    "- Este conjunto de datos contiene **119,390 observaciones** de un hotel urbano y un hotel resort.  \n",
    "Cada observación representa una reserva de hotel realizada entre el **1 de julio de 2015** y el **31 de agosto de 2017**, incluidas tanto las reservas completadas como las canceladas."
   ]
  },
  {
   "cell_type": "markdown",
   "id": "31068022-2069-4409-8625-a88fdfb4a339",
   "metadata": {},
   "source": [
    "## 2.2.- Contenido"
   ]
  },
  {
   "cell_type": "markdown",
   "id": "c6c8793d-e650-490d-bc9c-ae6ca1461697",
   "metadata": {},
   "source": [
    "- **Dataset:** hotel_booking.csv"
   ]
  },
  {
   "cell_type": "markdown",
   "id": "bb8afe01-9ffc-4bf9-b927-f35c13c2f9a7",
   "metadata": {},
   "source": [
    "- Dado que se trata de datos reales de hoteles:\n",
    "    - Se eliminaron todos los elementos relacionados con la **identificación del hotel** o del **cliente**.\n",
    "    - Se **crearon y agregaron artificialmente** cuatro columnas:\n",
    "        - `nombre`\n",
    "        - `correo electrónico`\n",
    "        - `número de teléfono`\n",
    "        - `tarjeta credito`."
   ]
  },
  {
   "cell_type": "markdown",
   "id": "c51cfd81-333a-4243-a0d7-aa8ec0facfda",
   "metadata": {},
   "source": [
    "## 2.3.- ¿Cuál es el objetivo del análisis?"
   ]
  },
  {
   "cell_type": "markdown",
   "id": "b46b2903-c988-452d-a9a7-21ad10d2bc6b",
   "metadata": {},
   "source": [
    "- Trataremos de  pronosticar si una **reserva** puede ser **cancelada** para poder mejorar el ratio de cancelaciones de los hoteles.\n",
    "    - **is_canceled**: Seria el target a predecir "
   ]
  },
  {
   "cell_type": "markdown",
   "id": "434587c3-9521-49d9-8cc2-dd1da1777ff8",
   "metadata": {},
   "source": [
    "## 2.4.- Definición de los Campos"
   ]
  },
  {
   "cell_type": "markdown",
   "id": "4f7aeb32-2582-43d9-b73a-960aeb3cad3b",
   "metadata": {},
   "source": [
    "- **hotel**: Los conjuntos de datos contienen la información de reservas de dos hoteles. Uno de ellos es un complejo hotelero y el otro es un hotel urbano.\n",
    "- **<span style=\"color:red\">is_canceled</span>**: Valor que indica si la reserva fue cancelada (1) o no (0). <span style=\"color:blue\">Variable a predecir</span>\n",
    "  - `0`: No.\n",
    "  - `1`: Si.\n",
    "- **lead_time**: Número de días transcurridos entre la fecha de entrada de la reserva en el PMS y la fecha de llegada.\n",
    "- **arrival_date_year**: Año de fecha de llegada\n",
    "- **arrival_date_month**: Mes de fecha de llegada con 12 categorías: “Enero” a “Diciembre”\n",
    "    - 'January':   Enero\n",
    "    - 'February':  Febrero\n",
    "    - 'March':     Marzo\n",
    "    - 'April':     Abril\n",
    "    - 'May':       Mayo\n",
    "    - 'June':      Junio\n",
    "    - 'July':      Julio\n",
    "    - 'August':    Agosto\n",
    "    - 'September': Septiembre\n",
    "    - 'October':   Octubre\n",
    "    - 'November':  Noviembre\n",
    "    - 'December'   Diciembre\n",
    "- **arrival_date_week_number**: Número de semana de la fecha de llegada\n",
    "  - `1`: Semana 1.\n",
    "  - `2`: Semana 2.\n",
    "  -  .........\n",
    "  - `51`: Semana 51.\n",
    "  - `52`: Semana 52.\n",
    "- **arrival_date_day_of_month**: Día del mes de la fecha de llegada\n",
    "  - `1`: Dia 1.\n",
    "  - `2`: Dia 2.\n",
    "  -  .........\n",
    "  - `30`: Dia 30\n",
    "  - `31`: Dia 31.\n",
    "- **stays_in_weekend_nights**: Número de noches de fin de semana (sábado o domingo) que el huésped se alojó o reservó para alojarse en el hotel\n",
    "- **stays_in_week_nights**: Número de noches de la semana (de lunes a viernes) que el huésped se alojó o reservó para alojarse en el hotel BO y BL/Calculado contando el número de noches de la semana\n",
    "- **adults**: Número de adultos\n",
    "- **children**: Número de niños\n",
    "- **babies**: Número de bebés\n",
    "- **meal**: Tipo de alojamiento.\n",
    "    - 'BB': Cama y Desayuno. \"Bed & Breakfast\"\n",
    "    - 'FB': Media Pension. \"Half Board (Breakfast and Dinner normally)\"\n",
    "    - 'HB': Pension Completa. \"Full Board (Beakfast, Lunch and Dinner)\"\n",
    "    - 'SC': ????\n",
    "    - 'Undefined': No Definido\n",
    "- **country**: Pais natal.\n",
    "    - 'PRT', 'GBR', 'USA', 'ESP', 'IRL', 'FRA', 'ROU', 'NOR', 'OMN', 'ARG', 'POL', 'DEU', 'BEL', 'CHE', 'CN', 'GRC', 'ITA', 'NLD',\n",
    "       'DNK', 'RUS', 'SWE', 'AUS', 'EST', 'CZE', 'BRA', 'FIN', 'MOZ', 'BWA', 'LUX', 'SVN', 'ALB', 'IND', 'CHN', 'MEX', 'MAR', 'UKR',\n",
    "       'SMR', 'LVA', 'PRI', 'SRB', 'CHL', 'AUT', 'BLR', 'LTU', 'TUR', 'ZAF', 'AGO', 'ISR', 'CYM', 'ZMB', 'CPV', 'ZWE', 'DZA', 'KOR',\n",
    "       'CRI', 'HUN', 'ARE', 'TUN', 'JAM', 'HRV', 'HKG', 'IRN', 'GEO', 'AND', 'GIB', 'URY', 'JEY', 'CAF', 'CYP', 'COL', 'GGY', 'KWT',\n",
    "       'NGA', 'MDV', 'VEN', 'SVK', 'FJI', 'KAZ', 'PAK', 'IDN', 'LBN', 'PHL', 'SEN', 'SYC', 'AZE', 'BHR', 'NZL', 'THA', 'DOM', 'MKD',\n",
    "       'MYS', 'ARM', 'JPN', 'LKA', 'CUB', 'CMR', 'BIH', 'MUS', 'COM', 'SUR', 'UGA', 'BGR', 'CIV', 'JOR', 'SYR', 'SGP', 'BDI', 'SAU',\n",
    "       'VNM', 'PLW', 'QAT', 'EGY', 'PER', 'MLT', 'MWI', 'ECU', 'MDG', 'ISL', 'UZB', 'NPL', 'BHS', 'MAC', 'TGO', 'TWN', 'DJI', 'STP',\n",
    "       'KNA', 'ETH', 'IRQ', 'HND', 'RWA', 'KHM', 'MCO', 'BGD', 'IMN', 'TJK', 'NIC', 'BEN', 'VGB', 'TZA', 'GAB', 'GHA', 'TMP', 'GLP',\n",
    "       'KEN', 'LIE', 'GNB', 'MNE', 'UMI', 'MYT', 'FRO', 'MMR', 'PAN', 'BFA', 'LBY', 'MLI', 'NAM', 'BOL', 'PRY', 'BRB', 'ABW', 'AIA',\n",
    "       'SLV', 'DMA', 'PYF', 'GUY', 'LCA', 'ATA', 'GTM', 'ASM', 'MRT', 'NCL', 'KIR', 'SDN', 'ATF', 'SLE', 'LAO'\n",
    "- **market_segment**: Designación de segmento de mercado. En las categorías, el término “TA” significa “Agentes de Viajes” y “TO” significa “Operadores Turísticos”.\n",
    "    - 'Direct':\n",
    "    - 'Corporate':\n",
    "    - 'Online TA':\n",
    "    - 'Offline TA/TO':\n",
    "    - 'Complementary':\n",
    "    - 'Groups':\n",
    "    - 'Aviation:\n",
    "    - 'Undefined':\n",
    "- **distribution_channel**: Canal de distribución de reservas. El término “TA” significa “Agentes de Viajes” y “TO” significa “Operadores Turísticos”\n",
    "    - 'Direct':\n",
    "    - 'Corporate':\n",
    "    - 'TA/TO':\n",
    "    - 'GDS':\n",
    "    - 'Undefined':\n",
    "- **is_repeated_guest**: Valor que indica si el nombre de la reserva era de un huésped repetido (1) o no (0)\n",
    "  - `0`: No.\n",
    "  - `1`: Si.\n",
    "- **previous_cancellations**: Número de reservas anteriores que fueron canceladas por el cliente antes de la reserva actual.\n",
    "- **previous_bookings_not_canceled**: Número de reservas anteriores no canceladas por el cliente antes de la reserva actual.\n",
    "- **reserved_room_type**: Código del tipo de habitación reservada. Se indica el código en lugar de la denominación por razones de anonimato.\n",
    "    - 'A':\n",
    "    - 'B':\n",
    "    - 'C':\n",
    "    - 'D':\n",
    "    - 'E':\n",
    "    - 'F':\n",
    "    - 'G':\n",
    "    - 'H':\n",
    "    - 'L':\n",
    "    - 'P':\n",
    "- **assigned_room_type**: Código del tipo de habitación asignada a la reserva. En ocasiones, el tipo de habitación asignada difiere del tipo de habitación reservada por razones operativas del hotel (por ejemplo, overbooking) o por petición del cliente. Se presenta el código en lugar de la designación por razones de anonimato.\n",
    "    - 'A':\n",
    "    - 'B':\n",
    "    - 'C':\n",
    "    - 'D':\n",
    "    - 'E':\n",
    "    - 'F':\n",
    "    - 'G':\n",
    "    - 'H':\n",
    "    - 'I':\n",
    "    - 'K':\n",
    "    - 'L':\n",
    "    - 'P':\n",
    "- **booking_changes**: Número de cambios/modificaciones realizadas en la reserva desde el momento en que se introdujo la reserva en el PMS hasta el momento del check-in o cancelación.\n",
    "- **deposit_type**: Sin depósito: no se realizó ningún depósito; Sin reembolso: se realizó un depósito por el valor del costo total de la estadía; Reembolsable: se realizó un depósito por un valor inferior al costo total de la estadía.\n",
    "    - 'No Deposit': Sin Deposito\n",
    "    - 'Refundable': Reintegrable \n",
    "    - 'Non Refund': No Reintegrable\n",
    "- **agent**: Identificación de la agencia de viajes que realizó la reserva\n",
    "- **company**: Identificación de la empresa/entidad que ha realizado la reserva o que ha sido responsable del pago de la misma. Se presenta la identificación en lugar de la designación por razones de anonimato.\n",
    "- **days_in_waiting_list**: Número de días que la reserva estuvo en lista de espera antes de ser confirmada al cliente.\n",
    "- **customer_type**:\n",
    "    - 'Transient': Transitorio\n",
    "    - 'Contract': Contrato\n",
    "    - 'Transient-Party': Fiesta Transitoria\n",
    "    - 'Group': Grupo\n",
    "- **adr**: Tarifa diaria promedio (calculada dividiendo la suma de todas las transacciones de alojamiento por el número total de noches de estadía)\n",
    "- **required_car_parking_spaces**: Número de plazas de aparcamiento solicitadas por el cliente\n",
    "- **total_of_special_requests**: Número de peticiones especiales realizadas por el cliente (p. ej. cama doble o piso alto)\n",
    "- **reservation_status**: Check-Out: el cliente se registró pero ya se fue; No-Show: el cliente no se registró y no informó al hotel el motivo.\n",
    "    - 'Check-Out': El cliente se registró pero ya se fue.\n",
    "    - 'No-Show': El cliente no se registró y no informó al hotel el motivo\n",
    "    - 'Canceled': Cancelado.\n",
    "- **reservation_status_date**: Fecha en la que se estableció el último estado. Esta variable se puede utilizar junto con ReservationStatus para saber cuándo se canceló la reserva o cuándo el cliente abandonó el hotel.\t\n",
    "- **name**: Nombre del Invitado (No Real).\n",
    "- **email**: Correo electrónico (No Real).\n",
    "- **phone-number**: Número de teléfono (No Real)\n",
    "- **credit_card**: Número de tarjeta de crédito (No Real)"
   ]
  },
  {
   "cell_type": "markdown",
   "id": "b62c424e-a030-495c-843b-5a9bebb7e8d9",
   "metadata": {},
   "source": [
    "# 3.- Funciones Generales"
   ]
  },
  {
   "cell_type": "code",
   "execution_count": 52,
   "id": "ae284cb5-1000-4929-8f69-4551c8616d12",
   "metadata": {},
   "outputs": [
    {
     "name": "stdout",
     "output_type": "stream",
     "text": [
      "The autoreload extension is already loaded. To reload it, use:\n",
      "  %reload_ext autoreload\n"
     ]
    }
   ],
   "source": [
    "# 1️⃣ Habilitar autoreload (Ejecutar solo una vez en el Notebook)\n",
    "%load_ext autoreload\n",
    "%autoreload 2\n",
    "    \n",
    "import funciones as fn  # Importa todo el módulo funciones.py"
   ]
  },
  {
   "cell_type": "markdown",
   "id": "d19af632-1f93-4300-bb21-ca97454ad0a2",
   "metadata": {},
   "source": [
    "## 4.1.- Importacion"
   ]
  },
  {
   "cell_type": "markdown",
   "id": "5f7771d9-e258-4d36-8afc-da5e2c1ae871",
   "metadata": {},
   "source": [
    "A continuación te indico las librerías que debes instalar y el comando correspondiente para instalarlas:\n",
    "\n",
    "- **`numpy`**: Librería para computación numérica.\n",
    "- **`pandas`**: Librería para manipulación y análisis de datos.\n",
    "- **`matplotlib`**: Librería para visualización de datos.\n",
    "- **`seaborn`**: Librería para visualización de datos estadísticos, basada en matplotlib.\n",
    "- **`scikit-learn`**: Librería para machine learning, que incluye `StandardScaler`, `PCA`, `KNeighborsClassifier`, y `accuracy_score`.\n",
    "- **`pycountry`**: Librería para obtener información sobre países.\n",
    "- **`IPython`**: Librería para interactuar con el entorno de Jupyter Notebook (opcional si no estás usando Jupyter)."
   ]
  },
  {
   "cell_type": "code",
   "execution_count": 55,
   "id": "b0f4e208-5f05-49f0-8aac-79a40a91ec4a",
   "metadata": {},
   "outputs": [],
   "source": [
    "# Si no tenemos instaladas las librerias ejecutar antes el pip install\n",
    "#!pip install numpy pandas matplotlib seaborn scikit-learn pycountry pycountry-convert ipython"
   ]
  },
  {
   "cell_type": "code",
   "execution_count": 56,
   "id": "49d21301-9be6-470e-b958-96479d2fde8f",
   "metadata": {},
   "outputs": [],
   "source": [
    "\n",
    "\n",
    "# Importar librerías necesarias numpy y pandas\n",
    "import numpy as np\n",
    "import pandas as pd\n",
    "# Importamos librerias para graficar\n",
    "import matplotlib.pyplot as plt\n",
    "import seaborn as sns\n",
    "# Para numeros aleatorios\n",
    "import random\n",
    "# Para informacion de paises y sus datos adicionales\n",
    "import pycountry\n",
    "import plotly.express as px\n",
    "import pycountry_convert as pc\n",
    "\n",
    "# Para visualizacion HTML\n",
    "from IPython.core.display import HTML\n",
    "# Para Normalizar variables continuas\n",
    "from sklearn.preprocessing import StandardScaler\n",
    "# Paso 1: Estandarizar los datos PCA\n",
    "from sklearn.decomposition import PCA\n",
    "# Para el KNN\n",
    "from sklearn.neighbors import KNeighborsClassifier\n",
    "from sklearn.metrics import accuracy_score"
   ]
  },
  {
   "cell_type": "markdown",
   "id": "8215dc7b-f139-43d2-995d-86ccdc35c54f",
   "metadata": {},
   "source": [
    "## 4.2.- Variables Globales"
   ]
  },
  {
   "cell_type": "code",
   "execution_count": 58,
   "id": "04bf4a5b-f845-4991-bb18-2a316ec59cb6",
   "metadata": {},
   "outputs": [],
   "source": [
    "# Esta variable es para agilizar ejecuciones ya comprobadas. Se pondra a True cuando este ya todo funcionando \n",
    "PintarGraficas=True"
   ]
  },
  {
   "cell_type": "markdown",
   "id": "a36ff266-8d1d-435a-ac8c-45a00952bdab",
   "metadata": {},
   "source": [
    "# 5.- DataSet"
   ]
  },
  {
   "cell_type": "markdown",
   "id": "57469d82-b8fb-4d30-9e40-564b3a2fe869",
   "metadata": {},
   "source": [
    "### 5.1.- Lista de COLUMNAS y sus descripciones"
   ]
  },
  {
   "cell_type": "code",
   "execution_count": 61,
   "id": "7da76b56-2076-42c2-8e41-54cc449c9f09",
   "metadata": {},
   "outputs": [],
   "source": [
    "desc_columnas=[\n",
    "    {\"hotel\": \"Los conjuntos de datos contienen la información de reservas de dos hoteles. Uno de ellos es un complejo hotelero y el otro es un hotel urbano.\"},\n",
    "    {\"is_canceled\": \"Valor que indica si la reserva fue cancelada (1) o no (0).\"},\n",
    "    {\"lead_time\": \"Número de días transcurridos entre la fecha de entrada de la reserva en el PMS y la fecha de llegada.\"},\n",
    "    {\"arrival_date_year\": \"Año de fecha de llegada\"},\n",
    "    {\"arrival_date_month\": \"Mes de fecha de llegada con 12 categorías: “Enero” a “Diciembre”\"},\n",
    "    {\"arrival_date_week_number\": \"Número de semana de la fecha de llegada\"},\n",
    "    {\"arrival_date_day_of_month\": \"Día del mes de la fecha de llegada\"},\n",
    "    {\"stays_in_weekend_nights\": \"Número de noches de fin de semana (sábado o domingo) que el huésped se alojó o reservó para alojarse en el hotel\"},\n",
    "    {\"stays_in_week_nights\": \"Número de noches de la semana (de lunes a viernes) que el huésped se alojó o reservó para alojarse en el hotel BO y BL/Calculado contando el número de noches de la semana\"},\n",
    "    {\"adults\": \"Número de adultos\"},\n",
    "    {\"children\": \"Número de niños\"},\n",
    "    {\"babies\": \"Número de bebés\"},\n",
    "    {\"meal\": \"Tipo de alojamiento\"},\n",
    "    {\"country\": \"Pais natal.\"},\n",
    "    {\"market_segment\": \"Designación de segmento de mercado. En las categorías, el término “TA” significa “Agentes de Viajes” y “TO” significa “Operadores Turísticos”.\"},\n",
    "    {\"distribution_channel\": \"Canal de distribución de reservas. El término “TA” significa “Agentes de Viajes” y “TO” significa “Operadores Turísticos”\"},\n",
    "    {\"is_repeated_guest\": \"Valor que indica si el nombre de la reserva era de un huésped repetido (1) o no (0)\"},\n",
    "    {\"previous_cancellations\": \"Número de reservas anteriores que fueron canceladas por el cliente antes de la reserva actual.\"},\n",
    "    {\"previous_bookings_not_canceled\": \"Número de reservas anteriores no canceladas por el cliente antes de la reserva actual.\"},\n",
    "    {\"reserved_room_type*\": \"Código del tipo de habitación reservada. Se indica el código en lugar de la denominación por razones de anonimato.\"},\n",
    "    {\"assigned_room_type\": \"Código del tipo de habitación asignada a la reserva. En ocasiones, el tipo de habitación asignada difiere del tipo de habitación reservada por razones operativas del hotel (por ejemplo, overbooking) o por petición del cliente. Se presenta el código en lugar de la designación por razones de anonimato.\"},\n",
    "    {\"booking_changes\": \"Número de cambios/modificaciones realizadas en la reserva desde el momento en que se introdujo la reserva en el PMS hasta el momento del check-in o cancelación.\"},\n",
    "    {\"deposit_type\": \"Sin depósito: no se realizó ningún depósito; Sin reembolso: se realizó un depósito por el valor del costo total de la estadía; Reembolsable: se realizó un depósito por un valor inferior al costo total de la estadía.\"},\n",
    "    {\"agent\": \"Identificación de la agencia de viajes que realizó la reserva\"},\n",
    "    {\"company\": \"Identificación de la empresa/entidad que ha realizado la reserva o que ha sido responsable del pago de la misma. Se presenta la identificación en lugar de la designación por razones de anonimato.\"},\n",
    "    {\"days_in_waiting_list\": \"Número de días que la reserva estuvo en lista de espera antes de ser confirmada al cliente.\"},\n",
    "    {\"customer_type\": \"\"},\n",
    "    {\"adr\": \"Tarifa diaria promedio (calculada dividiendo la suma de todas las transacciones de alojamiento por el número total de noches de estadía)\"},\n",
    "    {\"required_car_parking_spaces\": \"Número de plazas de aparcamiento solicitadas por el cliente\"},\n",
    "    {\"total_of_special_requests\": \"Número de peticiones especiales realizadas por el cliente (p. ej. cama doble o piso alto)\"},\n",
    "    {\"reservation_status\": \"Check-Out: el cliente se registró pero ya se fue; No-Show: el cliente no se registró y no informó al hotel el motivo.\"},\n",
    "    {\"reservation_status_date\": \"Fecha en la que se estableció el último estado. Esta variable se puede utilizar junto con ReservationStatus para saber cuándo se canceló la reserva o cuándo el cliente abandonó el hotel.\t\"},\n",
    "    {\"name\": \"Nombre del Invitado (No Real).\"},\n",
    "    {\"email\": \"Correo electrónico (No Real).\"},\n",
    "    {\"phone-number\": \"Número de teléfono (No Real)\"},\n",
    "    {\"credit_card\": \"Número de tarjeta de crédito (No Real)\"}\n",
    "]"
   ]
  },
  {
   "cell_type": "markdown",
   "id": "1b176d46-ab96-4022-ac8b-262ea5112e7c",
   "metadata": {},
   "source": [
    "# 6.- Carga Datos"
   ]
  },
  {
   "cell_type": "markdown",
   "id": "90837cf7-e3f3-4dff-a5dd-68a6f274cfaa",
   "metadata": {},
   "source": [
    "## 6.1.- Cargamos Fichero HOTEL CLEAN a DATAFRAME"
   ]
  },
  {
   "cell_type": "code",
   "execution_count": 67,
   "id": "e443b2ab-2e05-4e01-8ee0-aa2c325cb011",
   "metadata": {},
   "outputs": [
    {
     "name": "stdout",
     "output_type": "stream",
     "text": [
      "Ruta: 'C:/USERS/AITOR.ARIZMENDI/ONEDRIVE/AITOR/CURSOS/NEOLAND/PROYECTO/CODIGOFUENTE/DATA/HOTEL_BOOKING_CLEAN.CSV'\n",
      "Dataset 'hotel_booking_CLEAN.csv' cargado OK!\n",
      "118897 Filas  y 28 Columnas\n"
     ]
    }
   ],
   "source": [
    "NombreFichero=\"hotel_booking_CLEAN.csv\"\n",
    "# Cargamos el csv en un dataframe\n",
    "VisualizarResultado=True\n",
    "df_original=fn.CSV(\"LEER\",NombreFichero,carpeta=\"Data\",encoding=\"utf-8-sig\",VisualizarResultado=VisualizarResultado)"
   ]
  },
  {
   "cell_type": "markdown",
   "id": "369dc271-a1be-4905-9284-a6f1a984eb23",
   "metadata": {},
   "source": [
    "## 6.2.- Cargamos Fichero de CONTINUAS"
   ]
  },
  {
   "cell_type": "code",
   "execution_count": null,
   "id": "f8ac4ae2-7ce1-43a1-aa3d-4825651b56ca",
   "metadata": {},
   "outputs": [],
   "source": [
    "NombreFichero=\"hotel_booking_CLEAN_CONTINUAS.csv\"\n",
    "# Cargamos el csv en un dataframe\n",
    "VisualizarResultado=True\n",
    "df_continuas=CSV(\"LEER\",NombreFichero,carpeta=\"Data\",encoding=\"utf-8-sig\",VisualizarResultado=VisualizarResultado)"
   ]
  },
  {
   "cell_type": "markdown",
   "id": "b46ef5bc-c73b-498e-a065-7d736c8c6dfa",
   "metadata": {},
   "source": [
    "## 6.3.- Cargamos Fichero de CATEGORICAS"
   ]
  },
  {
   "cell_type": "code",
   "execution_count": null,
   "id": "8394031d-5a8b-4855-8774-6ba4bec71af7",
   "metadata": {},
   "outputs": [],
   "source": [
    "NombreFichero=\"hotel_booking_CLEAN_CATEGORICAS.csv\"\n",
    "# Cargamos el csv en un dataframe\n",
    "VisualizarResultado=True\n",
    "df_categoricas=CSV(\"LEER\",NombreFichero,carpeta=\"Data\",encoding=\"utf-8-sig\",VisualizarResultado=VisualizarResultado)"
   ]
  },
  {
   "cell_type": "markdown",
   "id": "5dcc48fb-47a6-4dca-8a2e-d19ab8da56bf",
   "metadata": {},
   "source": [
    "## 6.4.- Cargamos Fichero de \"columnas\""
   ]
  },
  {
   "cell_type": "code",
   "execution_count": null,
   "id": "7b72f371-63ae-4151-b5b7-97cde0b53c75",
   "metadata": {},
   "outputs": [],
   "source": [
    "df_original_copia=df_original.copy()"
   ]
  },
  {
   "cell_type": "code",
   "execution_count": null,
   "id": "00104d1c-54b8-450f-abbf-261907578a77",
   "metadata": {},
   "outputs": [],
   "source": [
    "columnas_continuas=df_continuas.columns\n",
    "pintar_columnas_html(columnas_continuas,desc_columnas=desc_columnas,titulo=\"COLUMNAS CONTINUAS\",FormatoTabla=True)\n"
   ]
  },
  {
   "cell_type": "code",
   "execution_count": null,
   "id": "2697d120-6fa2-4384-a8c9-dd002477de26",
   "metadata": {},
   "outputs": [],
   "source": [
    "columnas_categoricas=df_categoricas.columns\n",
    "pintar_columnas_html(columnas_categoricas,desc_columnas=desc_columnas,titulo=\"COLUMNAS CATEGORICAS\",FormatoTabla=True)\n"
   ]
  },
  {
   "cell_type": "markdown",
   "id": "6336b9a8-d3c0-4ab1-a082-eb5d76ebf030",
   "metadata": {},
   "source": [
    "# 11.- Normalizar valores\n",
    "- ¿Por qué es importante este paso?\n",
    "    - **Consistencia de escala**: Los algoritmos de aprendizaje automático pueden ser sensibles a la escala de los datos. Si las características tienen diferentes escalas (por ejemplo, edad en años y salario en miles de dólares), el modelo podría sesgarse hacia las características con mayor magnitud. El escalado asegura que todas las características tengan la misma importancia.\n",
    "    - **Mejora el rendimiento**: El escalado puede mejorar la precisión de modelos como K-Nearest Neighbors (KNN), Support Vector Machines (SVM) y redes neuronales, que dependen de distancias entre los puntos de datos.\n",
    "    - **Evita problemas numéricos**: Las diferencias de escala pueden generar problemas numéricos en el cálculo de ciertos algoritmos. Al estandarizar los datos, se reduce el riesgo de inestabilidad en los cálculos.\n",
    "markdown\n",
    "Copiar\n",
    "Editar\n"
   ]
  },
  {
   "cell_type": "markdown",
   "id": "9bf2dcfc-852e-48a4-8df8-7bc870bc7689",
   "metadata": {},
   "source": [
    "## 11.1.- Codificación One-Hot (para modelos de Machine Learning) DUMMIES"
   ]
  },
  {
   "cell_type": "markdown",
   "id": "918a91dd-3425-4d95-ba11-57576a798193",
   "metadata": {},
   "source": [
    "# 11.1.1.-Creamos DUMMIES"
   ]
  },
  {
   "cell_type": "code",
   "execution_count": null,
   "id": "4e063639-af79-41b0-ba0a-f52d1d449b6d",
   "metadata": {},
   "outputs": [],
   "source": [
    "pintar_dataframe_por_bloques(df_categoricas,columnas_por_bloque=15,nlineas=5)"
   ]
  },
  {
   "cell_type": "code",
   "execution_count": null,
   "id": "37e669a1-65ac-447a-928e-bd0f0e1608ae",
   "metadata": {},
   "outputs": [],
   "source": [
    "# Creamos Variables DUMMIES\n",
    "columnas_dummies=['arrival_date_month','meal', 'market_segment',\n",
    "       'distribution_channel','assigned_room_type','deposit_type', 'customer_type']\n",
    "df_categoricas[columnas_dummies].info()"
   ]
  },
  {
   "cell_type": "code",
   "execution_count": null,
   "id": "a9ab7afe-db1c-4851-bf83-b500f18fe0d4",
   "metadata": {},
   "outputs": [],
   "source": [
    "df_original = pd.get_dummies(df_original,columns=columnas_dummies,drop_first = True)"
   ]
  },
  {
   "cell_type": "code",
   "execution_count": null,
   "id": "5200fe87-759d-42a3-92d7-b84ae1b62e4f",
   "metadata": {},
   "outputs": [],
   "source": [
    "pintar_dataframe_por_bloques(df_original,14)"
   ]
  },
  {
   "cell_type": "markdown",
   "id": "b1df033c-5a62-494b-81b6-d32f2eaeb7f7",
   "metadata": {},
   "source": [
    "### 11.1.2.- Si hubieramos hecho la separacion o el dataset viniera ya separado"
   ]
  },
  {
   "cell_type": "code",
   "execution_count": null,
   "id": "97a92cd7-0e4d-4c59-bbff-09c85fdeb9e9",
   "metadata": {},
   "outputs": [],
   "source": [
    "# # Aqui al haber hecho la division en trainign y test podemos tener el problema de que no tengamos los mismos campos\n",
    "# X_train.columns.size == X_test.columns.size"
   ]
  },
  {
   "cell_type": "code",
   "execution_count": null,
   "id": "c50f1d03-fd00-403b-a331-1d16bd47508e",
   "metadata": {},
   "outputs": [],
   "source": [
    "# # Ver columnas únicas en X_train que no están en X_test\n",
    "# columnas_unicas_X_train = set(X_train.columns) - set(X_test.columns)\n",
    "# # Ver columnas únicas en X_test que no están en X_train\n",
    "# columnas_unicas_X_test = set(X_test.columns) - set(X_train.columns)\n",
    "# # Lo que tenemos que evitar es que haya campos en \"testing\" que no esten en \"training\", ya que sino el modelo no los sabra predecir\n",
    "# print(f\"{len(columnas_unicas_X_train)} columna/s en X_train pero no en X_test:\", columnas_unicas_X_train)\n",
    "# print(f\"{len(columnas_unicas_X_test)} columna/s en X_test pero no en X_train:\", columnas_unicas_X_test)\n"
   ]
  },
  {
   "cell_type": "markdown",
   "id": "1e76bfdb-c4e2-41a5-8b71-e3507c738bd7",
   "metadata": {},
   "source": [
    "#### 11.1.2.1.- Añadir columnas DUMMIES en dataset que no esten"
   ]
  },
  {
   "cell_type": "code",
   "execution_count": null,
   "id": "be24b405-e725-4693-ab0d-0a78e65c828b",
   "metadata": {},
   "outputs": [],
   "source": [
    "# if len(columnas_unicas_X_train) >0:\n",
    "#     # Asegurar que X_test tenga las mismas columnas que X_train\n",
    "#     X_test = X_test.reindex(columns=X_train.columns, fill_value=0)\n",
    "\n",
    "# if len(columnas_unicas_X_test) >0:\n",
    "#     # Asegurar que X_train tenga las mismas columnas que X_test\n",
    "#     X_train = X_train.reindex(columns=X_test.columns, fill_value=0)\n",
    "    "
   ]
  },
  {
   "cell_type": "markdown",
   "id": "0e8848e3-afc5-4e44-84f8-338e9045b39a",
   "metadata": {},
   "source": [
    "## 11.2.- Normalizacion de variables numericas"
   ]
  },
  {
   "cell_type": "markdown",
   "id": "2c381f93-4964-4704-a1f1-3fc1610f631a",
   "metadata": {},
   "source": [
    "- **1. scaler = StandardScaler()**\n",
    "    - Se crea una instancia de la clase StandardScaler de la biblioteca sklearn.\n",
    "    - Este escalador estandariza las características del conjunto de datos, ajustándolas de manera que tengan una **media de 0** y una **desviación estándar de 1**."
   ]
  },
  {
   "cell_type": "code",
   "execution_count": null,
   "id": "b9ae0bd8-b72e-4f01-80f7-dd8b8461ca9f",
   "metadata": {},
   "outputs": [],
   "source": [
    "#from sklearn.preprocessing import StandardScaler"
   ]
  },
  {
   "cell_type": "code",
   "execution_count": null,
   "id": "aa6fa959-99c0-4b32-a2e7-584754ac777b",
   "metadata": {},
   "outputs": [],
   "source": [
    "# Escalado de características (normalización)\n",
    "scaler = StandardScaler()"
   ]
  },
  {
   "cell_type": "markdown",
   "id": "fca51636-fc3a-4d2c-88aa-8be9f94e718c",
   "metadata": {},
   "source": [
    "- **2. df_original = scaler.fit_transform(df_original)**\n",
    "    - **fit_transform()**: Calcula la **media** y la **desviación estándar** de cada característica en el conjunto de entrenamiento X_train.\n",
    "    - **transform()**: Aplica la transformación (escalado) a los datos de X_train, de modo que cada característica tendrá una media de 0 y una desviación estándar de 1."
   ]
  },
  {
   "cell_type": "code",
   "execution_count": null,
   "id": "f0d7c7e4-79db-4a9c-854f-0a26b2ee5194",
   "metadata": {},
   "outputs": [],
   "source": [
    "columnas_continuas=df_continuas.columns\n",
    "columnas_continuas"
   ]
  },
  {
   "cell_type": "code",
   "execution_count": null,
   "id": "f3983112-f9c7-4d6e-9ee9-e4163ac9c8d0",
   "metadata": {},
   "outputs": [],
   "source": [
    "df_original[columnas_continuas].head()"
   ]
  },
  {
   "cell_type": "code",
   "execution_count": null,
   "id": "774e1b21-a5b3-4716-a4b2-f4952051fdb9",
   "metadata": {},
   "outputs": [],
   "source": [
    "# Leemos el dataset de columans continuas"
   ]
  },
  {
   "cell_type": "code",
   "execution_count": null,
   "id": "f79e1278-3e0d-4a37-be09-4644b0a2dcb7",
   "metadata": {},
   "outputs": [],
   "source": [
    "columnas_a_normalizar=columnas_continuas\n",
    "columnas_a_normalizar"
   ]
  },
  {
   "cell_type": "code",
   "execution_count": null,
   "id": "96ef1ae5-a39f-4460-89b1-ffa78f2cfc00",
   "metadata": {},
   "outputs": [],
   "source": [
    "pintar_dataframe_por_bloques(df_original,columnas_por_bloque=15,nlineas=5)"
   ]
  },
  {
   "cell_type": "code",
   "execution_count": null,
   "id": "5bcec72c-3fc0-4cd8-96a5-c9405d7c510d",
   "metadata": {},
   "outputs": [],
   "source": [
    "df_norm=df_original.copy()\n",
    "df_norm[columnas_a_normalizar] = scaler.fit_transform(df_norm[columnas_a_normalizar])"
   ]
  },
  {
   "cell_type": "code",
   "execution_count": null,
   "id": "e260d0f4-5cf8-4b5f-851a-ccc41c6e9942",
   "metadata": {},
   "outputs": [],
   "source": [
    "df_norm[columnas_a_normalizar].head()"
   ]
  },
  {
   "cell_type": "code",
   "execution_count": null,
   "id": "2e4638bb-99f7-4199-8830-61fc7f5b1db0",
   "metadata": {},
   "outputs": [],
   "source": [
    "# df_norm = (df_dummies-df_dummies.min())/(df_dummies.max()-df_dummies.min())\n",
    "# df_norm.head()"
   ]
  },
  {
   "cell_type": "code",
   "execution_count": null,
   "id": "719b99f1-f1af-4275-8425-f8e34d96e24b",
   "metadata": {},
   "outputs": [],
   "source": [
    "pintar_dataframe_por_bloques(df_norm,columnas_por_bloque=15,nlineas=5)"
   ]
  },
  {
   "cell_type": "code",
   "execution_count": null,
   "id": "38d27b94-024d-45b0-9f8a-ced67452f6b8",
   "metadata": {},
   "outputs": [],
   "source": []
  },
  {
   "cell_type": "markdown",
   "id": "d86e9e75-c80f-43c7-9d3b-d0b257c98edf",
   "metadata": {},
   "source": [
    "# Cross Validation"
   ]
  },
  {
   "cell_type": "markdown",
   "id": "b55edd9f-71b8-4ddb-8902-3789912ea17a",
   "metadata": {},
   "source": [
    "# Feature Importance"
   ]
  },
  {
   "cell_type": "markdown",
   "id": "054a55ce-c3fa-47c2-a5fa-7b033528c215",
   "metadata": {},
   "source": [
    "# Matriz Correlacion Normalizado y con DUMMIES"
   ]
  },
  {
   "cell_type": "code",
   "execution_count": null,
   "id": "4d18f00b-062c-4576-91c0-98ca89142c0e",
   "metadata": {},
   "outputs": [],
   "source": [
    "correlation_matrix = df_norm.corr()\n",
    "correlation_matrix"
   ]
  },
  {
   "cell_type": "code",
   "execution_count": null,
   "id": "33d86aa4-0f2a-44cb-b2a1-a50547667733",
   "metadata": {},
   "outputs": [],
   "source": [
    "# Convertir la matriz en un DataFrame de pares de variables\n",
    "correlation_pares = correlation_matrix.unstack()\n",
    "# Eliminar las correlaciones de una variable consigo misma (diagonal de la matriz)\n",
    "correlation_pares = correlation_pares[correlation_pares.index.get_level_values(0) != correlation_pares.index.get_level_values(1)]\n",
    "# Tomar valores absolutos para encontrar las correlaciones más fuertes\n",
    "correlation_pares = correlation_pares.abs()\n",
    "\n",
    "# Ordenar de mayor a menor\n",
    "correlation_pares_ordenado = correlation_pares.sort_values(ascending=False)\n"
   ]
  },
  {
   "cell_type": "code",
   "execution_count": null,
   "id": "29cfca1b-e91f-4f81-b379-ea5ff17a5575",
   "metadata": {},
   "outputs": [],
   "source": [
    "correlation_pares_ordenado.head(40)"
   ]
  },
  {
   "cell_type": "markdown",
   "id": "773a2792-4815-44ad-8ca8-02e1f6cb3749",
   "metadata": {},
   "source": [
    "# 12.- Grabar Fichero NORMALIZADO"
   ]
  },
  {
   "cell_type": "code",
   "execution_count": null,
   "id": "40812d03-d797-42d9-a7da-f92ff73ee623",
   "metadata": {},
   "outputs": [],
   "source": [
    "# Grabamos fichero\n",
    "GrabarFichero=True\n",
    "if (GrabarFichero):\n",
    "    # Dataframe COMPLETO\n",
    "    NombreFichero=\"hotel_booking_NORM.csv\"\n",
    "    VisualizarResultado=True\n",
    "    CSV(\"GRABAR\",NombreFichero,df_norm,carpeta=\"Data\",encoding=\"utf-8-sig\",VisualizarResultado=VisualizarResultado)\n"
   ]
  },
  {
   "cell_type": "markdown",
   "id": "801427ab-9763-4ed4-b0a0-3c1332defa94",
   "metadata": {},
   "source": [
    "# 13.- Divido en TRAINING y TESTING"
   ]
  },
  {
   "cell_type": "markdown",
   "id": "9ab695d2-b020-4c26-bfa6-33d71059d42c",
   "metadata": {},
   "source": [
    "## 13.1.- Creamos los dataframes de X (features) e y (Labels)"
   ]
  },
  {
   "cell_type": "code",
   "execution_count": null,
   "id": "7baf7c46-0d9e-46ae-ad38-bb1543b3a963",
   "metadata": {},
   "outputs": [],
   "source": [
    "# En la regresion logistica la variable a predecir debe de ser CATEGORICA por lo tanto no puede ser FLOAT\n",
    "df_norm[\"is_canceled\"] = df_norm[\"is_canceled\"].astype(int)"
   ]
  },
  {
   "cell_type": "code",
   "execution_count": null,
   "id": "3cf5010e-00de-47c5-93b1-81d939f00b52",
   "metadata": {},
   "outputs": [],
   "source": [
    "# Supongamos que tienes un DataFrame llamado \"df_original\" con datos y etiquetas\n",
    "from sklearn.model_selection import train_test_split\n",
    "# X: datos (features/características), y: etiquetas (labels/clase)\n",
    "VariableAPredecir=\"is_canceled\"\n",
    "X = df_norm.drop(VariableAPredecir, axis=1)  # Quitamos del dataset la columna \"Objetivo\" o variable a predecir\n",
    "y = df_norm[VariableAPredecir] # Metemos en y la columna \"Objetivo\" o variable a predecir"
   ]
  },
  {
   "cell_type": "code",
   "execution_count": null,
   "id": "f74b6e2b-839b-4899-9a72-48caa4807394",
   "metadata": {},
   "outputs": [],
   "source": [
    "X.shape,y.shape"
   ]
  },
  {
   "cell_type": "markdown",
   "id": "8518c9b7-ac37-4ea7-90ea-10bbbb1f85da",
   "metadata": {},
   "source": [
    "## 13.2.- Dividimos en \"training\" y \"testing\" los dos dataframes, resultando 4 dataframes"
   ]
  },
  {
   "cell_type": "markdown",
   "id": "66c2e53e-a381-4113-9d9c-8aa4cb68b34e",
   "metadata": {},
   "source": [
    "### 13.2.1.- Division conjuntos de datos"
   ]
  },
  {
   "cell_type": "code",
   "execution_count": null,
   "id": "14d69a55-db2e-48f6-adf0-51afb114b064",
   "metadata": {},
   "outputs": [],
   "source": [
    "# Dividir en conjunto de entrenamiento y prueba\n",
    "semilla=42 # Se usa para que en cada iteracion nos haga la misma division para hacer el estudio y analisis\n",
    "X_train, X_test, y_train, y_test = train_test_split(X, y, test_size=0.25, random_state=semilla)"
   ]
  },
  {
   "cell_type": "markdown",
   "id": "588897a9-4705-4e87-8700-31d38a64c8e1",
   "metadata": {},
   "source": [
    "### 13.2.2.- Comprobacion dimensiones de los conjuntos de datos"
   ]
  },
  {
   "cell_type": "code",
   "execution_count": null,
   "id": "b203b7f6-130b-4f78-866e-2c6f240f4119",
   "metadata": {},
   "outputs": [],
   "source": [
    "## Dimensiones de los conjuntos de datos\n",
    "print(f\"Dimensiones de df_norm: {df_norm.shape} -> {df_norm.shape[0]} filas y {df_norm.shape[1]} columnas\")\n",
    "print(f\"Dimensiones de X_train: {X_train.shape} -> {X_train.shape[0]} filas y {X_train.shape[1]} columnas\")\n",
    "print(f\"Dimensiones de X_test : {X_test.shape} -> {X_test.shape[0]} filas y {X_test.shape[1]} columnas\")\n",
    "print(f\"Dimensiones de y_train: {y_train.shape} -> {y_train.shape[0]} filas.\")\n",
    "print(f\"Dimensiones de y_test : {y_test.shape} -> {y_test.shape[0]} filas.\")"
   ]
  },
  {
   "cell_type": "markdown",
   "id": "fbf14a99-434f-4290-aa06-35bb0d9b68cb",
   "metadata": {},
   "source": [
    "### 13.2.3.- Explicacion"
   ]
  },
  {
   "cell_type": "markdown",
   "id": "82a129c7-9a55-4751-bdbe-317e198a7cf9",
   "metadata": {},
   "source": [
    "- `semilla = 42`:\n",
    "    - Asigna el valor `42` a la variable `semilla`.\n",
    "    - Esta variable se utiliza para fijar la semilla del generador de números aleatorios (`random_state`), lo que garantiza que la división de los datos sea reproducible. Es decir, cada vez que ejecutes el código, obtendrás la misma división en conjuntos de entrenamiento y prueba.\n",
    "\n",
    "---\n",
    "\n",
    "- `train_test_split(X, y, test_size=0.25, random_state=semilla)`:\n",
    "    - Divide los datos en conjuntos de entrenamiento (`X_train`, `y_train`) y prueba (`X_test`, `y_test`).\n",
    "\n",
    "- Parámetros:\n",
    "    - **`X`**: Conjunto de características (variables independientes).\n",
    "    - **`y`**: Conjunto de etiquetas o valores objetivo (variable dependiente).\n",
    "    - **`test_size=0.25`**: Especifica que el 25% de los datos se utilizarán para pruebas, y el 75% restante para entrenamiento.\n",
    "    - **`random_state=semilla`**: Fija la semilla del generador de números aleatorios para garantizar reproducibilidad.\n",
    "\n",
    "- Resultados:\n",
    "    - **`X_train`**: Conjunto de características para entrenamiento (75% de los datos).\n",
    "    - **`X_test`**: Conjunto de características para pruebas (25% de los datos).\n",
    "    - **`y_train`**: Etiquetas correspondientes a `X_train`.\n",
    "    - **`y_test`**: Etiquetas correspondientes a `X_test`.\n",
    "\n",
    "- **¿Por qué es importante `random_state`?**: Al fijar la semilla (`random_state`), se asegura que la división de los datos sea la misma en cada ejecución del código. Esto es crucial para:\n",
    "    - Reproducir resultados en experimentos.\n",
    "    - Comparar modelos de manera consistente.\n",
    "    - Evitar variaciones aleatorias en la evaluación del rendimiento del modelo."
   ]
  },
  {
   "cell_type": "markdown",
   "id": "b377c19e-5a48-4e21-a1ff-16014f1802da",
   "metadata": {},
   "source": [
    "# 50.- Modelos"
   ]
  },
  {
   "cell_type": "markdown",
   "id": "addb8ed7-45ee-4ed0-a71b-1b211ef404b8",
   "metadata": {},
   "source": [
    "## 50.1.- PCA"
   ]
  },
  {
   "cell_type": "markdown",
   "id": "e0200daf-5fd6-4d32-ba24-81d143b8e4f9",
   "metadata": {
    "jp-MarkdownHeadingCollapsed": true
   },
   "source": [
    "### 50.1.1.- Explicacion:"
   ]
  },
  {
   "cell_type": "markdown",
   "id": "57091b55-57a0-4212-b0c6-c2d14aefea31",
   "metadata": {},
   "source": [
    "- ¿Qué es PCA?\n",
    "\n",
    "**PCA** significa **Análisis de Componentes Principales** (en inglés, *Principal Component Analysis*). Es una técnica de reducción de dimensionalidad ampliamente utilizada en estadística y machine learning para simplificar la complejidad de los datos, manteniendo la mayor cantidad de información posible.\n",
    "\n",
    "---\n",
    "\n",
    "- ¿Qué hace PCA?\n",
    "\n",
    "1. **Reduce la dimensionalidad**:\n",
    "   - Transforma un conjunto de variables (características) en un número menor de variables llamadas **componentes principales**.\n",
    "   - Estos componentes son combinaciones lineales de las variables originales.\n",
    "\n",
    "2. **Captura la varianza**:\n",
    "   - Los componentes principales se ordenan de manera que el primer componente captura la mayor varianza en los datos, el segundo componente captura la segunda mayor varianza, y así sucesivamente.\n",
    "\n",
    "3. **Elimina la correlación**:\n",
    "   - Los componentes principales son ortogonales (no correlacionados) entre sí, lo que ayuda a eliminar la redundancia en los datos.\n",
    "\n",
    "---\n",
    "\n",
    "- ¿Cómo funciona PCA?\n",
    "\n",
    "1. **Estandarización**:\n",
    "   - Las variables originales se estandarizan (media = 0, desviación estándar = 1) para que tengan la misma escala.\n",
    "\n",
    "2. **Cálculo de la matriz de covarianza**:\n",
    "   - Se calcula la matriz de covarianza para entender cómo varían las variables entre sí.\n",
    "\n",
    "3. **Descomposición en valores propios y vectores propios**:\n",
    "   - Se descompone la matriz de covarianza en sus valores propios (*eigenvalues*) y vectores propios (*eigenvectors*).\n",
    "   - Los valores propios indican la cantidad de varianza explicada por cada componente principal.\n",
    "   - Los vectores propios definen la dirección de los componentes principales.\n",
    "\n",
    "4. **Selección de componentes principales**:\n",
    "   - Se seleccionan los componentes principales que explican la mayor varianza (por ejemplo, los primeros 2 o 3 componentes).\n"
   ]
  },
  {
   "cell_type": "markdown",
   "id": "549dec4f-fb4e-4eb9-86b5-1c1ee4f1fcda",
   "metadata": {},
   "source": [
    "### 50.1.2.- Aplicaciones de PCA"
   ]
  },
  {
   "cell_type": "markdown",
   "id": "2c15895d-a220-433c-813b-9e99585e7679",
   "metadata": {},
   "source": [
    "1. **Reducción de dimensionalidad**:\n",
    "   - Simplifica datos con muchas variables para visualización o modelado.\n",
    "2. **Visualización de datos**:\n",
    "   - Permite visualizar datos de alta dimensión en 2D o 3D.\n",
    "3. **Eliminación de ruido**:\n",
    "   - Los componentes con menor varianza suelen representar ruido, por lo que PCA ayuda a eliminarlo.\n",
    "4. **Preprocesamiento para machine learning**:\n",
    "   - Reduce el número de características, mejorando la eficiencia de los algoritmos.\n",
    "\n",
    "---\n",
    "\n",
    "- Ejemplo Práctico\n",
    "\n",
    "Supongamos que tienes un conjunto de datos con 4 variables (características). PCA puede transformar estas 4 variables en 2 componentes principales que capturan la mayor varianza.\n",
    "\n",
    "```python\n",
    "from sklearn.decomposition import PCA\n",
    "import numpy as np\n",
    "\n",
    "# Datos de ejemplo (4 variables)\n",
    "datos = np.array([[1, 2, 3, 4],\n",
    "                  [5, 6, 7, 8],\n",
    "                  [9, 10, 11, 12]])\n",
    "\n",
    "# Aplicar PCA\n",
    "pca = PCA(n_components=2)  # Reducir a 2 componentes\n",
    "datos_transformados = pca.fit_transform(datos)\n",
    "\n",
    "print(\"Datos originales (4D):\\n\", datos)\n",
    "print(\"Datos transformados (2D):\\n\", datos_transformados)"
   ]
  },
  {
   "cell_type": "markdown",
   "id": "df00e26b-0a12-442f-990f-e1c28bf21956",
   "metadata": {},
   "source": [
    "### 50.1.3.- Aplicamos PCA"
   ]
  },
  {
   "cell_type": "code",
   "execution_count": null,
   "id": "a8628523-4876-4975-9049-99d466b9128a",
   "metadata": {},
   "outputs": [],
   "source": [
    "# Aplicar PCA sobre X_train\n",
    "pca = PCA(n_components=2)  # Número de componentes principales deseados"
   ]
  },
  {
   "cell_type": "code",
   "execution_count": 77,
   "id": "5be4293b-0cb5-409e-af35-24bcbb6ca541",
   "metadata": {},
   "outputs": [],
   "source": [
    "### 50.1.4.- Entrenamos"
   ]
  },
  {
   "cell_type": "code",
   "execution_count": null,
   "id": "d5d822a7-f47a-4758-a203-9774fc431ffe",
   "metadata": {},
   "outputs": [],
   "source": [
    "X_train_pca = pca.fit_transform(X_train)\n",
    "# Transformar X_test con el mismo PCA\n",
    "X_test_pca = pca.transform(X_test)"
   ]
  },
  {
   "cell_type": "markdown",
   "id": "304d0617-1b63-488d-8748-cec412e3df22",
   "metadata": {},
   "source": [
    "### 50.1.5.- Analizamos Varianza"
   ]
  },
  {
   "cell_type": "code",
   "execution_count": null,
   "id": "d373825a-222f-487e-acf4-f582c3f999ec",
   "metadata": {},
   "outputs": [],
   "source": [
    "# Paso 3: Ver la varianza explicada por cada componente\n",
    "explained_variance = pca.explained_variance_ratio_\n",
    "print(\"Varianza explicada por cada componente:\", explained_variance)"
   ]
  },
  {
   "cell_type": "markdown",
   "id": "65f06954-97dc-49ae-aa45-bf34da4c64cf",
   "metadata": {},
   "source": [
    "### 50.1.6.- Graficamos Varianza Acumulada"
   ]
  },
  {
   "cell_type": "code",
   "execution_count": 442,
   "id": "dcb15a36-94b5-4112-8e31-4310d1e2d918",
   "metadata": {},
   "outputs": [
    {
     "name": "stdout",
     "output_type": "stream",
     "text": [
      "Varianza explicada por cada componente: [0.11462301 0.09482309 0.08191639 0.07203056 0.06846514 0.0643027\n",
      " 0.06329882 0.06228284 0.05817457 0.05644537 0.05454744 0.05001558\n",
      " 0.04641171 0.04517129 0.03691211 0.03057937]\n"
     ]
    },
    {
     "data": {
      "image/png": "[encoded data removed]",
      "text/plain": [
       "<Figure size 800x600 with 1 Axes>"
      ]
     },
     "metadata": {},
     "output_type": "display_data"
    },
    {
     "name": "stdout",
     "output_type": "stream",
     "text": [
      "Componentes principales:\n",
      " [[ 0.08809143  0.07573625  0.00216555  0.47439582  0.49131215  0.28805631\n",
      "   0.26723447  0.11189785 -0.0994188  -0.14646899  0.14904402  0.29469814\n",
      "  -0.09096303  0.34737353  0.09512672  0.27341959]\n",
      " [-0.49445964 -0.08235226  0.04998503 -0.30325174 -0.3537892   0.01932853\n",
      "   0.31937833  0.12007189 -0.15906654  0.07062183  0.04109295 -0.03601911\n",
      "  -0.25106669  0.3654217   0.29661382  0.30738348]\n",
      " [ 0.31598388  0.30284569  0.14758574 -0.22463362 -0.18990055  0.39015737\n",
      "   0.19019905 -0.10131052 -0.05891337 -0.30002791 -0.23957352 -0.30747619\n",
      "   0.25933661  0.37261701 -0.2194586  -0.04227006]\n",
      " [ 0.18845936  0.38246135  0.14179582 -0.04044564 -0.01278353 -0.02504647\n",
      "   0.11330481  0.18222749  0.5839132   0.54581518  0.18400503 -0.07687014\n",
      "   0.12991747  0.06809233  0.15969441  0.15484116]\n",
      " [ 0.08363149  0.21855655  0.39758747 -0.10944617 -0.04702165 -0.25538506\n",
      "  -0.04725     0.33180021 -0.37942888 -0.24620742  0.47887046  0.08551836\n",
      "   0.31965742 -0.11632297  0.18347191 -0.06956679]\n",
      " [ 0.07054166 -0.04075892 -0.35188118 -0.07574074 -0.07222878  0.32496184\n",
      "  -0.40174324  0.62310991 -0.01145034 -0.09356016  0.04972591 -0.19167604\n",
      "  -0.05196079 -0.12614517 -0.10782786  0.35353701]\n",
      " [-0.04739855  0.29766259  0.4038862  -0.01181897 -0.06274538  0.24868652\n",
      "  -0.44357975 -0.12990397 -0.00588401 -0.04790379 -0.40267148  0.31728738\n",
      "  -0.18281408 -0.16061111  0.34031844  0.16213591]\n",
      " [ 0.14604572 -0.25121547 -0.38805633 -0.18268448 -0.08092801  0.17931978\n",
      "   0.07250813 -0.01502838  0.10458022 -0.06254264 -0.08542562  0.35042088\n",
      "   0.49181919  0.01122246  0.53291652 -0.12829219]\n",
      " [-0.05455743 -0.58662457  0.49711311  0.07786928  0.08501402  0.16623167\n",
      "  -0.04464595  0.07359335 -0.07898324  0.30727209 -0.14629231 -0.0892826\n",
      "   0.40370758  0.0106506  -0.14340113  0.20917935]\n",
      " [-0.00893956 -0.11441695  0.2063439  -0.03861133 -0.05598955 -0.11855718\n",
      "   0.25877139  0.56670479  0.31457373 -0.21206948 -0.34616711  0.33075877\n",
      "  -0.16003347  0.00501801 -0.19123575 -0.3195035 ]\n",
      " [ 0.12566698 -0.34156592  0.25005153 -0.09439341 -0.07808398  0.39659348\n",
      "  -0.09277779 -0.13987599  0.32211328 -0.20429846  0.50694005 -0.08227056\n",
      "  -0.34400977 -0.00213939  0.12354882 -0.24836475]\n",
      " [-0.06344836  0.02503334  0.01758518  0.27613552  0.15644687  0.07616449\n",
      "  -0.01005722  0.24595714 -0.16996646  0.13662644 -0.21749143 -0.53209453\n",
      "  -0.08255917  0.05008624  0.46972371 -0.46900677]\n",
      " [ 0.25151133  0.04668546 -0.06160353 -0.18307191 -0.08127249  0.27871127\n",
      "   0.02769885  0.08160397 -0.45548082  0.5554385   0.0777506   0.32769888\n",
      "  -0.2162452   0.0398525  -0.18541748 -0.30562117]\n",
      " [-0.63254857  0.20634282 -0.05659585  0.09286433  0.01699681  0.22912672\n",
      "  -0.30375763  0.01896539  0.13774908  0.03592993  0.16755613  0.1463212\n",
      "   0.30674093  0.26707976 -0.23244606 -0.33295384]\n",
      " [ 0.25132007 -0.1621047   0.00191562 -0.16499961  0.14157659 -0.39788662\n",
      "  -0.48513161  0.02192885  0.02839287  0.0129622  -0.04522235  0.03873182\n",
      "  -0.09470183  0.67257055  0.05227908 -0.02384193]\n",
      " [ 0.16561628 -0.05292498 -0.02156984  0.64620667 -0.71514516 -0.07555523\n",
      "  -0.0765871  -0.00155506 -0.01533018  0.0168918   0.04385625  0.07952014\n",
      "   0.02827801  0.1379504  -0.00421236  0.00988965]]\n"
     ]
    }
   ],
   "source": [
    "\n",
    "#PintarGraficas=True\n",
    "if PintarGraficas:\n",
    "    # Paso 4: Visualizar la varianza explicada acumulada\n",
    "    plt.figure(figsize=(8, 6))\n",
    "    \n",
    "    # Graficar la varianza explicada acumulada\n",
    "    cumulative_variance = explained_variance.cumsum()\n",
    "    plt.plot(range(1, len(cumulative_variance) + 1), cumulative_variance, marker='o', linestyle='-', color='b')\n",
    "    \n",
    "    # Numerar los puntos\n",
    "    for i, (x, y) in enumerate(zip(range(1, len(cumulative_variance) + 1), cumulative_variance)):\n",
    "        plt.text(x, y, f'{i+1}', fontsize=12, ha='right', va='bottom')\n",
    "    \n",
    "    # Añadir una línea horizontal en el 85%\n",
    "    plt.axhline(y=0.85, color='r', linestyle='--', label='85% de Varianza Explicada')\n",
    "    \n",
    "    # Etiquetas y título\n",
    "    plt.xlabel('Número de Componentes Principales')\n",
    "    plt.ylabel('Varianza Explicada Acumulada')\n",
    "    plt.title('Varianza Explicada Acumulada con PCA')\n",
    "    \n",
    "    # Mostrar leyenda\n",
    "    plt.legend()\n",
    "    \n",
    "    # Mostrar la gráfica\n",
    "    plt.show()\n",
    "\n",
    "\n"
   ]
  },
  {
   "cell_type": "markdown",
   "id": "f88c5009-2e38-4324-9136-9e48eb48928b",
   "metadata": {
    "jp-MarkdownHeadingCollapsed": true
   },
   "source": [
    "### 50.1.7.- Pintamos Componentes Principales"
   ]
  },
  {
   "cell_type": "code",
   "execution_count": null,
   "id": "2a28a90f-7cf3-4213-bf05-d436d826b769",
   "metadata": {},
   "outputs": [],
   "source": [
    "# También puedes ver los primeros componentes principales\n",
    "components = pca.components_\n",
    "print(\"Componentes principales:\\n\", components)"
   ]
  },
  {
   "cell_type": "markdown",
   "id": "db6f34fc-fa8d-4c6f-9116-c7b90ef85d27",
   "metadata": {},
   "source": [
    "### 50.1.8.- Vemos componentes a seleccionar segun objetivo"
   ]
  },
  {
   "cell_type": "code",
   "execution_count": 446,
   "id": "56c9efd5-ac8c-4e8a-a9f8-e9dc67d806e7",
   "metadata": {},
   "outputs": [
    {
     "data": {
      "text/plain": [
       "0.8873372256123253"
      ]
     },
     "execution_count": 446,
     "metadata": {},
     "output_type": "execute_result"
    }
   ],
   "source": [
    "# Vemos cuantos componentes se pueden quedar por PCA \n",
    "explained_variance[0:13].sum()"
   ]
  },
  {
   "cell_type": "code",
   "execution_count": null,
   "id": "e5dae74c-d439-4f13-a49a-3c3e6722402c",
   "metadata": {},
   "outputs": [],
   "source": []
  },
  {
   "cell_type": "code",
   "execution_count": null,
   "id": "8b1fd1fc-41ef-445d-baec-c4e079373a22",
   "metadata": {},
   "outputs": [],
   "source": []
  },
  {
   "cell_type": "markdown",
   "id": "89e908e5-2687-47bb-9723-5e11cf6568e2",
   "metadata": {},
   "source": [
    "#### 18.1.6.- Curva ROC"
   ]
  },
  {
   "cell_type": "markdown",
   "id": "484336b4-2592-4004-981a-dd185817281a",
   "metadata": {},
   "source": [
    "# 100.- Fin del Codigo"
   ]
  },
  {
   "cell_type": "code",
   "execution_count": null,
   "id": "d5b857e8-4665-4c70-be5c-5fc8cfe2a32f",
   "metadata": {},
   "outputs": [],
   "source": [
    "# Asignar la fecha y hora actual a la variable 'inicio'\n",
    "fin = datetime.now()\n",
    "print(\"Fecha y hora de fin:\", fin)\n",
    "# Calcular el tiempo transcurrido\n",
    "tiempo_transcurrido = fin - inicio\n",
    "print(\"Tiempo transcurrido:\", tiempo_transcurrido)\n",
    "print(\"\")\n",
    "print(\"Fin del MODELO de PCA!!!\")\n"
   ]
  }
 ],
 "metadata": {
  "kernelspec": {
   "display_name": "Python 3 (ipykernel)",
   "language": "python",
   "name": "python3"
  },
  "language_info": {
   "codemirror_mode": {
    "name": "ipython",
    "version": 3
   },
   "file_extension": ".py",
   "mimetype": "text/x-python",
   "name": "python",
   "nbconvert_exporter": "python",
   "pygments_lexer": "ipython3",
   "version": "3.11.7"
  }
 },
 "nbformat": 4,
 "nbformat_minor": 5
}
